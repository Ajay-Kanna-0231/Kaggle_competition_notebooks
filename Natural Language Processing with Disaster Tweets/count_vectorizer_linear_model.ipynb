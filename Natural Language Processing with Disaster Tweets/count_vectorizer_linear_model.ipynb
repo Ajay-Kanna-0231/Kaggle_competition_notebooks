{
 "cells": [
  {
   "cell_type": "code",
   "execution_count": 1,
   "id": "bc49386d",
   "metadata": {
    "_cell_guid": "b1076dfc-b9ad-4769-8c92-a6c4dae69d19",
    "_uuid": "8f2839f25d086af736a60e9eeb907d3b93b6e0e5",
    "execution": {
     "iopub.execute_input": "2024-02-27T11:38:52.532471Z",
     "iopub.status.busy": "2024-02-27T11:38:52.531086Z",
     "iopub.status.idle": "2024-02-27T11:38:53.506227Z",
     "shell.execute_reply": "2024-02-27T11:38:53.504951Z"
    },
    "papermill": {
     "duration": 0.985789,
     "end_time": "2024-02-27T11:38:53.509474",
     "exception": false,
     "start_time": "2024-02-27T11:38:52.523685",
     "status": "completed"
    },
    "tags": []
   },
   "outputs": [
    {
     "name": "stdout",
     "output_type": "stream",
     "text": [
      "/kaggle/input/nlp-getting-started/sample_submission.csv\n",
      "/kaggle/input/nlp-getting-started/train.csv\n",
      "/kaggle/input/nlp-getting-started/test.csv\n"
     ]
    }
   ],
   "source": [
    "# This Python 3 environment comes with many helpful analytics libraries installed\n",
    "# It is defined by the kaggle/python Docker image: https://github.com/kaggle/docker-python\n",
    "# For example, here's several helpful packages to load\n",
    "\n",
    "import numpy as np # linear algebra\n",
    "import pandas as pd # data processing, CSV file I/O (e.g. pd.read_csv)\n",
    "\n",
    "# Input data files are available in the read-only \"../input/\" directory\n",
    "# For example, running this (by clicking run or pressing Shift+Enter) will list all files under the input directory\n",
    "\n",
    "import os\n",
    "for dirname, _, filenames in os.walk('/kaggle/input'):\n",
    "    for filename in filenames:\n",
    "        print(os.path.join(dirname, filename))\n",
    "\n",
    "# You can write up to 20GB to the current directory (/kaggle/working/) that gets preserved as output when you create a version using \"Save & Run All\" \n",
    "# You can also write temporary files to /kaggle/temp/, but they won't be saved outside of the current session"
   ]
  },
  {
   "cell_type": "code",
   "execution_count": 2,
   "id": "6540342c",
   "metadata": {
    "execution": {
     "iopub.execute_input": "2024-02-27T11:38:53.522799Z",
     "iopub.status.busy": "2024-02-27T11:38:53.521381Z",
     "iopub.status.idle": "2024-02-27T11:38:53.621656Z",
     "shell.execute_reply": "2024-02-27T11:38:53.619331Z"
    },
    "papermill": {
     "duration": 0.109582,
     "end_time": "2024-02-27T11:38:53.624441",
     "exception": false,
     "start_time": "2024-02-27T11:38:53.514859",
     "status": "completed"
    },
    "tags": []
   },
   "outputs": [
    {
     "name": "stdout",
     "output_type": "stream",
     "text": [
      "<bound method NDFrame.head of          id keyword location  \\\n",
      "0         1     NaN      NaN   \n",
      "1         4     NaN      NaN   \n",
      "2         5     NaN      NaN   \n",
      "3         6     NaN      NaN   \n",
      "4         7     NaN      NaN   \n",
      "...     ...     ...      ...   \n",
      "7608  10869     NaN      NaN   \n",
      "7609  10870     NaN      NaN   \n",
      "7610  10871     NaN      NaN   \n",
      "7611  10872     NaN      NaN   \n",
      "7612  10873     NaN      NaN   \n",
      "\n",
      "                                                   text  target  \n",
      "0     Our Deeds are the Reason of this #earthquake M...       1  \n",
      "1                Forest fire near La Ronge Sask. Canada       1  \n",
      "2     All residents asked to 'shelter in place' are ...       1  \n",
      "3     13,000 people receive #wildfires evacuation or...       1  \n",
      "4     Just got sent this photo from Ruby #Alaska as ...       1  \n",
      "...                                                 ...     ...  \n",
      "7608  Two giant cranes holding a bridge collapse int...       1  \n",
      "7609  @aria_ahrary @TheTawniest The out of control w...       1  \n",
      "7610  M1.94 [01:04 UTC]?5km S of Volcano Hawaii. htt...       1  \n",
      "7611  Police investigating after an e-bike collided ...       1  \n",
      "7612  The Latest: More Homes Razed by Northern Calif...       1  \n",
      "\n",
      "[7613 rows x 5 columns]>\n",
      "Index(['id', 'keyword', 'location', 'text', 'target'], dtype='object')\n",
      "<bound method NDFrame.head of          id keyword location  \\\n",
      "0         0     NaN      NaN   \n",
      "1         2     NaN      NaN   \n",
      "2         3     NaN      NaN   \n",
      "3         9     NaN      NaN   \n",
      "4        11     NaN      NaN   \n",
      "...     ...     ...      ...   \n",
      "3258  10861     NaN      NaN   \n",
      "3259  10865     NaN      NaN   \n",
      "3260  10868     NaN      NaN   \n",
      "3261  10874     NaN      NaN   \n",
      "3262  10875     NaN      NaN   \n",
      "\n",
      "                                                   text  \n",
      "0                    Just happened a terrible car crash  \n",
      "1     Heard about #earthquake is different cities, s...  \n",
      "2     there is a forest fire at spot pond, geese are...  \n",
      "3              Apocalypse lighting. #Spokane #wildfires  \n",
      "4         Typhoon Soudelor kills 28 in China and Taiwan  \n",
      "...                                                 ...  \n",
      "3258  EARTHQUAKE SAFETY LOS ANGELES ÛÒ SAFETY FASTE...  \n",
      "3259  Storm in RI worse than last hurricane. My city...  \n",
      "3260  Green Line derailment in Chicago http://t.co/U...  \n",
      "3261  MEG issues Hazardous Weather Outlook (HWO) htt...  \n",
      "3262  #CityofCalgary has activated its Municipal Eme...  \n",
      "\n",
      "[3263 rows x 4 columns]>\n",
      "Index(['id', 'keyword', 'location', 'text'], dtype='object')\n"
     ]
    }
   ],
   "source": [
    "import numpy as np # linear algebra\n",
    "import pandas as pd # data processing, CSV file I/O (e.g. pd.read_csv)\n",
    "train_df = pd.read_csv(\"/kaggle/input/nlp-getting-started/train.csv\")\n",
    "test_df = pd.read_csv(\"/kaggle/input/nlp-getting-started/test.csv\")\n",
    "print(train_df.head)\n",
    "print(train_df.columns)\n",
    "print(test_df.head)\n",
    "print(test_df.columns)"
   ]
  },
  {
   "cell_type": "code",
   "execution_count": 3,
   "id": "18391407",
   "metadata": {
    "execution": {
     "iopub.execute_input": "2024-02-27T11:38:53.637561Z",
     "iopub.status.busy": "2024-02-27T11:38:53.636321Z",
     "iopub.status.idle": "2024-02-27T11:38:55.175182Z",
     "shell.execute_reply": "2024-02-27T11:38:55.173971Z"
    },
    "papermill": {
     "duration": 1.548703,
     "end_time": "2024-02-27T11:38:55.178406",
     "exception": false,
     "start_time": "2024-02-27T11:38:53.629703",
     "status": "completed"
    },
    "tags": []
   },
   "outputs": [
    {
     "name": "stdout",
     "output_type": "stream",
     "text": [
      "(1, 54)\n",
      "  (0, 34)\t1\n",
      "  (0, 12)\t1\n",
      "  (0, 5)\t1\n",
      "  (0, 49)\t1\n",
      "  (0, 39)\t1\n",
      "  (0, 29)\t1\n",
      "  (0, 50)\t1\n",
      "  (0, 13)\t1\n",
      "  (0, 25)\t1\n",
      "  (0, 4)\t1\n",
      "  (0, 18)\t1\n",
      "  (0, 52)\t1\n",
      "  (0, 3)\t1\n",
      "First document: Our Deeds are the Reason of this #earthquake May ALLAH Forgive us all\n",
      "First tweet data out the first 5: (1, 54) here 54 is the no of distinct words found across the 5 documents\n",
      "[[0 0 0 1 1 1 0 0 0 0 0 0 1 1 0 0 0 0 1 0 0 0 0 0 0 1 0 0 0 1 0 0 0 0 1 0\n",
      "  0 0 0 1 0 0 0 0 0 0 0 0 0 1 1 0 1 0]] 13\n",
      "Second document: Forest fire near La Ronge Sask. Canada\n",
      "Second tweet data out the first 5: (1, 54) here 54 is the no of distinct words found across the 5 documents\n",
      "[[0 0 0 0 0 0 0 0 0 0 0 1 0 0 0 0 1 1 0 0 0 0 0 0 1 0 1 0 0 0 0 0 0 0 0 0\n",
      "  0 0 0 0 0 0 1 0 1 0 0 0 0 0 0 0 0 0]] 7\n",
      "Third document: All residents asked to 'shelter in place' are being notified by officers. No other evacuation or shelter in place orders are expected\n",
      "Third tweet data out the first 5: (1, 54) here 54 is the no of distinct words found across the 5 documents\n",
      "[[0 0 0 1 0 2 0 1 1 1 0 0 0 0 1 1 0 0 0 0 0 2 0 0 0 0 0 1 1 0 1 1 1 1 0 0\n",
      "  0 2 0 0 0 1 0 0 0 0 0 2 0 0 0 1 0 0]] 22\n",
      "Fourth document: 13,000 people receive #wildfires evacuation orders in California \n",
      "Fourth tweet data out the first 5: (1, 54) here 54 is the no of distinct words found across the 5 documents\n",
      "[[1 1 0 0 0 0 0 0 0 0 1 0 0 0 1 0 0 0 0 0 0 1 0 0 0 0 0 0 0 0 0 0 1 0 0 1\n",
      "  0 0 0 0 1 0 0 0 0 0 0 0 0 0 0 0 0 1]] 9\n",
      "Fifth document: Just got sent this photo from Ruby #Alaska as smoke from #wildfires pours into a school \n",
      "Fifth tweet data out the first 5: (1, 54) here 54 is the no of distinct words found across the 5 documents\n",
      "[[0 0 1 0 0 0 1 0 0 0 0 0 0 0 0 0 0 0 0 2 1 0 1 1 0 0 0 0 0 0 0 0 0 0 0 0\n",
      "  1 0 1 0 0 0 0 1 0 1 1 0 1 0 1 0 0 1]] 15\n"
     ]
    }
   ],
   "source": [
    "from sklearn import feature_extraction, linear_model, model_selection, preprocessing\n",
    "count_vectorizer = feature_extraction.text.CountVectorizer()\n",
    "example_train_vectors = count_vectorizer.fit_transform(train_df[\"text\"][0:5])\n",
    "print(example_train_vectors[0].shape)\n",
    "print(example_train_vectors[0])\n",
    "## we use .todense() here because these vectors are \"sparse\" (only non-zero elements are kept to save space)\n",
    "print(\"First document:\", train_df.text[0])\n",
    "print(\"First tweet data out the first 5:\", example_train_vectors[0].todense().shape, \"here 54 is the no of distinct words found across the 5 documents\") \n",
    "print(example_train_vectors[0].todense(),  example_train_vectors[0].todense().sum())\n",
    "print(\"Second document:\", train_df.text[1])\n",
    "print(\"Second tweet data out the first 5:\", example_train_vectors[1].todense().shape, \"here 54 is the no of distinct words found across the 5 documents\")\n",
    "print(example_train_vectors[1].todense(), example_train_vectors[1].todense().sum())\n",
    "print(\"Third document:\", train_df.text[2])\n",
    "print(\"Third tweet data out the first 5:\", example_train_vectors[2].todense().shape, \"here 54 is the no of distinct words found across the 5 documents\")\n",
    "print(example_train_vectors[2].todense(),  example_train_vectors[2].todense().sum())\n",
    "print(\"Fourth document:\", train_df.text[3])\n",
    "print(\"Fourth tweet data out the first 5:\", example_train_vectors[3].todense().shape, \"here 54 is the no of distinct words found across the 5 documents\")\n",
    "print(example_train_vectors[3].todense(),  example_train_vectors[3].todense().sum())\n",
    "print(\"Fifth document:\", train_df.text[4])\n",
    "print(\"Fifth tweet data out the first 5:\", example_train_vectors[4].todense().shape, \"here 54 is the no of distinct words found across the 5 documents\")\n",
    "print(example_train_vectors[4].todense(),  example_train_vectors[4].todense().sum())"
   ]
  },
  {
   "cell_type": "code",
   "execution_count": 4,
   "id": "50bd7507",
   "metadata": {
    "execution": {
     "iopub.execute_input": "2024-02-27T11:38:55.191741Z",
     "iopub.status.busy": "2024-02-27T11:38:55.191276Z",
     "iopub.status.idle": "2024-02-27T11:38:55.643768Z",
     "shell.execute_reply": "2024-02-27T11:38:55.642766Z"
    },
    "papermill": {
     "duration": 0.462683,
     "end_time": "2024-02-27T11:38:55.646765",
     "exception": false,
     "start_time": "2024-02-27T11:38:55.184082",
     "status": "completed"
    },
    "tags": []
   },
   "outputs": [],
   "source": [
    "train_vectors = count_vectorizer.fit_transform(train_df[\"text\"])\n",
    "\n",
    "## note that we're NOT using .fit_transform() here. Using just .transform() makes sure\n",
    "# that the tokens in the train vectors are the only ones mapped to the test vectors - \n",
    "# i.e. that the train and test vectors use the same set of tokens.\n",
    "test_vectors = count_vectorizer.transform(test_df[\"text\"])"
   ]
  },
  {
   "cell_type": "code",
   "execution_count": 5,
   "id": "92b29761",
   "metadata": {
    "execution": {
     "iopub.execute_input": "2024-02-27T11:38:55.659819Z",
     "iopub.status.busy": "2024-02-27T11:38:55.659062Z",
     "iopub.status.idle": "2024-02-27T11:38:55.665847Z",
     "shell.execute_reply": "2024-02-27T11:38:55.664561Z"
    },
    "papermill": {
     "duration": 0.016676,
     "end_time": "2024-02-27T11:38:55.668917",
     "exception": false,
     "start_time": "2024-02-27T11:38:55.652241",
     "status": "completed"
    },
    "tags": []
   },
   "outputs": [],
   "source": [
    "## Our vectors are really big, so we want to push our model's weights\n",
    "## toward 0 without completely discounting different words - ridge regression \n",
    "## is a good way to do this.\n",
    "clf = linear_model.RidgeClassifier()"
   ]
  },
  {
   "cell_type": "code",
   "execution_count": 6,
   "id": "7fa0d2c0",
   "metadata": {
    "execution": {
     "iopub.execute_input": "2024-02-27T11:38:55.681566Z",
     "iopub.status.busy": "2024-02-27T11:38:55.681153Z",
     "iopub.status.idle": "2024-02-27T11:38:56.407151Z",
     "shell.execute_reply": "2024-02-27T11:38:56.405581Z"
    },
    "papermill": {
     "duration": 0.737516,
     "end_time": "2024-02-27T11:38:56.411922",
     "exception": false,
     "start_time": "2024-02-27T11:38:55.674406",
     "status": "completed"
    },
    "tags": []
   },
   "outputs": [
    {
     "data": {
      "text/plain": [
       "array([0.59453669, 0.5642787 , 0.64082434])"
      ]
     },
     "execution_count": 6,
     "metadata": {},
     "output_type": "execute_result"
    }
   ],
   "source": [
    "scores = model_selection.cross_val_score(clf, train_vectors, train_df[\"target\"], cv=3, scoring=\"f1\")\n",
    "scores"
   ]
  },
  {
   "cell_type": "code",
   "execution_count": 7,
   "id": "1ccaead3",
   "metadata": {
    "execution": {
     "iopub.execute_input": "2024-02-27T11:38:56.438029Z",
     "iopub.status.busy": "2024-02-27T11:38:56.436976Z",
     "iopub.status.idle": "2024-02-27T11:38:56.802419Z",
     "shell.execute_reply": "2024-02-27T11:38:56.800827Z"
    },
    "papermill": {
     "duration": 0.383457,
     "end_time": "2024-02-27T11:38:56.807261",
     "exception": false,
     "start_time": "2024-02-27T11:38:56.423804",
     "status": "completed"
    },
    "tags": []
   },
   "outputs": [
    {
     "data": {
      "text/html": [
       "<style>#sk-container-id-1 {color: black;background-color: white;}#sk-container-id-1 pre{padding: 0;}#sk-container-id-1 div.sk-toggleable {background-color: white;}#sk-container-id-1 label.sk-toggleable__label {cursor: pointer;display: block;width: 100%;margin-bottom: 0;padding: 0.3em;box-sizing: border-box;text-align: center;}#sk-container-id-1 label.sk-toggleable__label-arrow:before {content: \"▸\";float: left;margin-right: 0.25em;color: #696969;}#sk-container-id-1 label.sk-toggleable__label-arrow:hover:before {color: black;}#sk-container-id-1 div.sk-estimator:hover label.sk-toggleable__label-arrow:before {color: black;}#sk-container-id-1 div.sk-toggleable__content {max-height: 0;max-width: 0;overflow: hidden;text-align: left;background-color: #f0f8ff;}#sk-container-id-1 div.sk-toggleable__content pre {margin: 0.2em;color: black;border-radius: 0.25em;background-color: #f0f8ff;}#sk-container-id-1 input.sk-toggleable__control:checked~div.sk-toggleable__content {max-height: 200px;max-width: 100%;overflow: auto;}#sk-container-id-1 input.sk-toggleable__control:checked~label.sk-toggleable__label-arrow:before {content: \"▾\";}#sk-container-id-1 div.sk-estimator input.sk-toggleable__control:checked~label.sk-toggleable__label {background-color: #d4ebff;}#sk-container-id-1 div.sk-label input.sk-toggleable__control:checked~label.sk-toggleable__label {background-color: #d4ebff;}#sk-container-id-1 input.sk-hidden--visually {border: 0;clip: rect(1px 1px 1px 1px);clip: rect(1px, 1px, 1px, 1px);height: 1px;margin: -1px;overflow: hidden;padding: 0;position: absolute;width: 1px;}#sk-container-id-1 div.sk-estimator {font-family: monospace;background-color: #f0f8ff;border: 1px dotted black;border-radius: 0.25em;box-sizing: border-box;margin-bottom: 0.5em;}#sk-container-id-1 div.sk-estimator:hover {background-color: #d4ebff;}#sk-container-id-1 div.sk-parallel-item::after {content: \"\";width: 100%;border-bottom: 1px solid gray;flex-grow: 1;}#sk-container-id-1 div.sk-label:hover label.sk-toggleable__label {background-color: #d4ebff;}#sk-container-id-1 div.sk-serial::before {content: \"\";position: absolute;border-left: 1px solid gray;box-sizing: border-box;top: 0;bottom: 0;left: 50%;z-index: 0;}#sk-container-id-1 div.sk-serial {display: flex;flex-direction: column;align-items: center;background-color: white;padding-right: 0.2em;padding-left: 0.2em;position: relative;}#sk-container-id-1 div.sk-item {position: relative;z-index: 1;}#sk-container-id-1 div.sk-parallel {display: flex;align-items: stretch;justify-content: center;background-color: white;position: relative;}#sk-container-id-1 div.sk-item::before, #sk-container-id-1 div.sk-parallel-item::before {content: \"\";position: absolute;border-left: 1px solid gray;box-sizing: border-box;top: 0;bottom: 0;left: 50%;z-index: -1;}#sk-container-id-1 div.sk-parallel-item {display: flex;flex-direction: column;z-index: 1;position: relative;background-color: white;}#sk-container-id-1 div.sk-parallel-item:first-child::after {align-self: flex-end;width: 50%;}#sk-container-id-1 div.sk-parallel-item:last-child::after {align-self: flex-start;width: 50%;}#sk-container-id-1 div.sk-parallel-item:only-child::after {width: 0;}#sk-container-id-1 div.sk-dashed-wrapped {border: 1px dashed gray;margin: 0 0.4em 0.5em 0.4em;box-sizing: border-box;padding-bottom: 0.4em;background-color: white;}#sk-container-id-1 div.sk-label label {font-family: monospace;font-weight: bold;display: inline-block;line-height: 1.2em;}#sk-container-id-1 div.sk-label-container {text-align: center;}#sk-container-id-1 div.sk-container {/* jupyter's `normalize.less` sets `[hidden] { display: none; }` but bootstrap.min.css set `[hidden] { display: none !important; }` so we also need the `!important` here to be able to override the default hidden behavior on the sphinx rendered scikit-learn.org. See: https://github.com/scikit-learn/scikit-learn/issues/21755 */display: inline-block !important;position: relative;}#sk-container-id-1 div.sk-text-repr-fallback {display: none;}</style><div id=\"sk-container-id-1\" class=\"sk-top-container\"><div class=\"sk-text-repr-fallback\"><pre>RidgeClassifier()</pre><b>In a Jupyter environment, please rerun this cell to show the HTML representation or trust the notebook. <br />On GitHub, the HTML representation is unable to render, please try loading this page with nbviewer.org.</b></div><div class=\"sk-container\" hidden><div class=\"sk-item\"><div class=\"sk-estimator sk-toggleable\"><input class=\"sk-toggleable__control sk-hidden--visually\" id=\"sk-estimator-id-1\" type=\"checkbox\" checked><label for=\"sk-estimator-id-1\" class=\"sk-toggleable__label sk-toggleable__label-arrow\">RidgeClassifier</label><div class=\"sk-toggleable__content\"><pre>RidgeClassifier()</pre></div></div></div></div></div>"
      ],
      "text/plain": [
       "RidgeClassifier()"
      ]
     },
     "execution_count": 7,
     "metadata": {},
     "output_type": "execute_result"
    }
   ],
   "source": [
    "clf.fit(train_vectors, train_df[\"target\"])"
   ]
  },
  {
   "cell_type": "code",
   "execution_count": 8,
   "id": "ceeb5056",
   "metadata": {
    "execution": {
     "iopub.execute_input": "2024-02-27T11:38:56.834399Z",
     "iopub.status.busy": "2024-02-27T11:38:56.833276Z",
     "iopub.status.idle": "2024-02-27T11:38:56.855297Z",
     "shell.execute_reply": "2024-02-27T11:38:56.853420Z"
    },
    "papermill": {
     "duration": 0.042284,
     "end_time": "2024-02-27T11:38:56.861743",
     "exception": false,
     "start_time": "2024-02-27T11:38:56.819459",
     "status": "completed"
    },
    "tags": []
   },
   "outputs": [],
   "source": [
    "sample_submission = pd.read_csv(\"/kaggle/input/nlp-getting-started/sample_submission.csv\")"
   ]
  },
  {
   "cell_type": "code",
   "execution_count": 9,
   "id": "53f8920f",
   "metadata": {
    "execution": {
     "iopub.execute_input": "2024-02-27T11:38:56.891337Z",
     "iopub.status.busy": "2024-02-27T11:38:56.890582Z",
     "iopub.status.idle": "2024-02-27T11:38:56.906483Z",
     "shell.execute_reply": "2024-02-27T11:38:56.904266Z"
    },
    "papermill": {
     "duration": 0.034732,
     "end_time": "2024-02-27T11:38:56.910556",
     "exception": false,
     "start_time": "2024-02-27T11:38:56.875824",
     "status": "completed"
    },
    "tags": []
   },
   "outputs": [],
   "source": [
    "sample_submission[\"target\"] = clf.predict(test_vectors)"
   ]
  },
  {
   "cell_type": "code",
   "execution_count": 10,
   "id": "f1d160be",
   "metadata": {
    "execution": {
     "iopub.execute_input": "2024-02-27T11:38:56.924829Z",
     "iopub.status.busy": "2024-02-27T11:38:56.923946Z",
     "iopub.status.idle": "2024-02-27T11:38:56.936836Z",
     "shell.execute_reply": "2024-02-27T11:38:56.935848Z"
    },
    "papermill": {
     "duration": 0.023666,
     "end_time": "2024-02-27T11:38:56.940006",
     "exception": false,
     "start_time": "2024-02-27T11:38:56.916340",
     "status": "completed"
    },
    "tags": []
   },
   "outputs": [
    {
     "data": {
      "text/html": [
       "<div>\n",
       "<style scoped>\n",
       "    .dataframe tbody tr th:only-of-type {\n",
       "        vertical-align: middle;\n",
       "    }\n",
       "\n",
       "    .dataframe tbody tr th {\n",
       "        vertical-align: top;\n",
       "    }\n",
       "\n",
       "    .dataframe thead th {\n",
       "        text-align: right;\n",
       "    }\n",
       "</style>\n",
       "<table border=\"1\" class=\"dataframe\">\n",
       "  <thead>\n",
       "    <tr style=\"text-align: right;\">\n",
       "      <th></th>\n",
       "      <th>id</th>\n",
       "      <th>target</th>\n",
       "    </tr>\n",
       "  </thead>\n",
       "  <tbody>\n",
       "    <tr>\n",
       "      <th>0</th>\n",
       "      <td>0</td>\n",
       "      <td>0</td>\n",
       "    </tr>\n",
       "    <tr>\n",
       "      <th>1</th>\n",
       "      <td>2</td>\n",
       "      <td>1</td>\n",
       "    </tr>\n",
       "    <tr>\n",
       "      <th>2</th>\n",
       "      <td>3</td>\n",
       "      <td>1</td>\n",
       "    </tr>\n",
       "    <tr>\n",
       "      <th>3</th>\n",
       "      <td>9</td>\n",
       "      <td>0</td>\n",
       "    </tr>\n",
       "    <tr>\n",
       "      <th>4</th>\n",
       "      <td>11</td>\n",
       "      <td>1</td>\n",
       "    </tr>\n",
       "  </tbody>\n",
       "</table>\n",
       "</div>"
      ],
      "text/plain": [
       "   id  target\n",
       "0   0       0\n",
       "1   2       1\n",
       "2   3       1\n",
       "3   9       0\n",
       "4  11       1"
      ]
     },
     "execution_count": 10,
     "metadata": {},
     "output_type": "execute_result"
    }
   ],
   "source": [
    "sample_submission.head()"
   ]
  },
  {
   "cell_type": "code",
   "execution_count": 11,
   "id": "206a06b4",
   "metadata": {
    "execution": {
     "iopub.execute_input": "2024-02-27T11:38:56.954440Z",
     "iopub.status.busy": "2024-02-27T11:38:56.953600Z",
     "iopub.status.idle": "2024-02-27T11:38:56.967274Z",
     "shell.execute_reply": "2024-02-27T11:38:56.965802Z"
    },
    "papermill": {
     "duration": 0.024086,
     "end_time": "2024-02-27T11:38:56.970037",
     "exception": false,
     "start_time": "2024-02-27T11:38:56.945951",
     "status": "completed"
    },
    "tags": []
   },
   "outputs": [],
   "source": [
    "sample_submission.to_csv(\"submission.csv\", index=False)"
   ]
  }
 ],
 "metadata": {
  "kaggle": {
   "accelerator": "none",
   "dataSources": [
    {
     "databundleVersionId": 869809,
     "sourceId": 17777,
     "sourceType": "competition"
    }
   ],
   "dockerImageVersionId": 30646,
   "isGpuEnabled": false,
   "isInternetEnabled": true,
   "language": "python",
   "sourceType": "notebook"
  },
  "kernelspec": {
   "display_name": "Python 3",
   "language": "python",
   "name": "python3"
  },
  "language_info": {
   "codemirror_mode": {
    "name": "ipython",
    "version": 3
   },
   "file_extension": ".py",
   "mimetype": "text/x-python",
   "name": "python",
   "nbconvert_exporter": "python",
   "pygments_lexer": "ipython3",
   "version": "3.10.13"
  },
  "papermill": {
   "default_parameters": {},
   "duration": 8.429573,
   "end_time": "2024-02-27T11:38:57.700640",
   "environment_variables": {},
   "exception": null,
   "input_path": "__notebook__.ipynb",
   "output_path": "__notebook__.ipynb",
   "parameters": {},
   "start_time": "2024-02-27T11:38:49.271067",
   "version": "2.5.0"
  }
 },
 "nbformat": 4,
 "nbformat_minor": 5
}
